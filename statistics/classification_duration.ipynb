{
 "cells": [
  {
   "cell_type": "code",
   "execution_count": 2,
   "metadata": {},
   "outputs": [
    {
     "name": "stdout",
     "output_type": "stream",
     "text": [
      "RandomForestClassifier\n",
      "0.0016210079193115234\n",
      "0.0016447901725769043\n",
      "0.00165557861328125\n",
      "0.0016708970069885254\n",
      "0.0023157596588134766\n",
      " \n",
      "SVC\n",
      "0.021279335021972656\n",
      "0.02231055498123169\n",
      "0.022371649742126465\n",
      "0.022411227226257324\n",
      "0.042410850524902344\n",
      " \n",
      "DecisionTreeClassifier\n",
      "0.0005869865417480469\n",
      "0.0006033778190612793\n",
      "0.0006113052368164062\n",
      "0.0006194710731506348\n",
      "0.0006875991821289062\n",
      " \n",
      "MLPClassifier\n",
      "0.0011713504791259766\n",
      "0.00119858980178833\n",
      "0.0012482404708862305\n",
      "0.0073541998863220215\n",
      "0.035030364990234375\n",
      " \n"
     ]
    }
   ],
   "source": [
    "import json\n",
    "import numpy as np\n",
    "\n",
    "data = {}\n",
    "with open('classification_duration.json') as f:\n",
    "    data = json.load(f)\n",
    "\n",
    "\n",
    "ml_algo_names = {\n",
    "    \"RandomForestClassifier\": \"Random Forest\",\n",
    "    \"SVC\": \"SVM\",\n",
    "    \"DecisionTreeClassifier\": \"Decision Tree\",\n",
    "    \"MLPClassifier\": \"MLP\"\n",
    "}\n",
    "\n",
    "for ml_algo in data:\n",
    "    print(ml_algo)\n",
    "    valuies = data[ml_algo]\n",
    "    print(np.min(valuies))\n",
    "    print(np.quantile(valuies, 0.25))\n",
    "    print(np.median(valuies))\n",
    "    print(np.quantile(valuies, 0.75))\n",
    "    print(np.max(valuies))\n",
    "    print(\" \")"
   ]
  },
  {
   "cell_type": "code",
   "execution_count": null,
   "metadata": {},
   "outputs": [],
   "source": []
  }
 ],
 "metadata": {
  "kernelspec": {
   "display_name": "base",
   "language": "python",
   "name": "python3"
  },
  "language_info": {
   "codemirror_mode": {
    "name": "ipython",
    "version": 3
   },
   "file_extension": ".py",
   "mimetype": "text/x-python",
   "name": "python",
   "nbconvert_exporter": "python",
   "pygments_lexer": "ipython3",
   "version": "3.9.2"
  },
  "orig_nbformat": 4
 },
 "nbformat": 4,
 "nbformat_minor": 2
}
